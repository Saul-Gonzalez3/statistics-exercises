{
 "cells": [
  {
   "cell_type": "code",
   "execution_count": 1,
   "id": "9b0e725f-28e4-4f6e-b1c9-ef84c56bd3a9",
   "metadata": {},
   "outputs": [],
   "source": [
    "#For each of the following questions, formulate a null and alternative hypothesis (be as specific as you can be), then give an example of what a true positive, \n",
    "#true negative, type I and type II errors would look like. Note that some of the questions are intentionally phrased in a vague way. \n",
    "#It is your job to reword these as more precise questions that could be tested."
   ]
  },
  {
   "cell_type": "code",
   "execution_count": 2,
   "id": "7005c155-7ed9-4c32-a936-4c9e960bc25b",
   "metadata": {},
   "outputs": [
    {
     "ename": "SyntaxError",
     "evalue": "invalid syntax (4281571772.py, line 3)",
     "output_type": "error",
     "traceback": [
      "\u001b[0;36m  Cell \u001b[0;32mIn[2], line 3\u001b[0;36m\u001b[0m\n\u001b[0;31m    H0 - The network latency has not gone up since we switched internet service providers.\u001b[0m\n\u001b[0m             ^\u001b[0m\n\u001b[0;31mSyntaxError\u001b[0m\u001b[0;31m:\u001b[0m invalid syntax\n"
     ]
    }
   ],
   "source": [
    "#Has the network latency gone up since we switched internet service providers?\n",
    "\n",
    "H0 - The network latency has not gone up since we switched internet service providers.\n",
    "HA - The network latency has gone up since we switched internet service providers.\n",
    "True Positive - If the H0 is false and you reject the H0\n",
    "True Negative - If the H0 is true and you accept the H0\n",
    "Type I - If the network latency has not gone up since we switched ISPs, but we reject the H0.\n",
    "Type II - If the network latency has gone up, but we accept the H0."
   ]
  },
  {
   "cell_type": "code",
   "execution_count": null,
   "id": "5e3f05f6-4538-48c2-85d3-384ca629da9d",
   "metadata": {},
   "outputs": [],
   "source": [
    "#Is the website redesign any good?\n",
    "\n",
    "H0 - The website redesign has no positive outlooks.\n",
    "HA - The website redesign has has some intended positive outlooks.\n",
    "True Positive - If the H0 is false and you reject the H0\n",
    "True Negative - If the H0 is true and you accept the H0\n",
    "Type I - If the website redesign has no positive outlooks, but we reject the H0.\n",
    "Type II - If the website redesign has had positive outlooks, but we accept the H0 thinking it has had no positive outlooks."
   ]
  },
  {
   "cell_type": "code",
   "execution_count": null,
   "id": "9c898df5-a98c-4348-8861-4b9f6722bd70",
   "metadata": {},
   "outputs": [],
   "source": [
    "#Is our television ad driving more sales?\n",
    "\n",
    "H0 - The television ad is not adding to current sales totals.\n",
    "HA - The television ad is adding to current sales totals.\n",
    "True Positive - If the H0 is false and you reject the H0\n",
    "True Negative - If the H0 is true and you accept the H0\n",
    "Type I - If the television ad is not adding to the current sales totals, but we reject the H0.\n",
    "Type II - If the television ad is adding to the current sales totals, but we incorrectly think that it is not by accepting the H0."
   ]
  },
  {
   "cell_type": "code",
   "execution_count": 4,
   "id": "ffb2d710-6456-4d55-a3cd-e8d81a3fcee3",
   "metadata": {
    "tags": []
   },
   "outputs": [
    {
     "ename": "ModuleNotFoundError",
     "evalue": "No module named 'env'",
     "output_type": "error",
     "traceback": [
      "\u001b[0;31m---------------------------------------------------------------------------\u001b[0m",
      "\u001b[0;31mModuleNotFoundError\u001b[0m                       Traceback (most recent call last)",
      "Cell \u001b[0;32mIn[4], line 1\u001b[0m\n\u001b[0;32m----> 1\u001b[0m \u001b[38;5;28;01mimport\u001b[39;00m \u001b[38;5;21;01menv\u001b[39;00m\n\u001b[1;32m      2\u001b[0m \u001b[38;5;28;01mimport\u001b[39;00m \u001b[38;5;21;01mpandas\u001b[39;00m \u001b[38;5;28;01mas\u001b[39;00m \u001b[38;5;21;01mpd\u001b[39;00m\n\u001b[1;32m      3\u001b[0m \u001b[38;5;28;01mimport\u001b[39;00m \u001b[38;5;21;01mnumpy\u001b[39;00m \u001b[38;5;28;01mas\u001b[39;00m \u001b[38;5;21;01mnp\u001b[39;00m\n",
      "\u001b[0;31mModuleNotFoundError\u001b[0m: No module named 'env'"
     ]
    }
   ],
   "source": [
    "import env\n",
    "import pandas as pd\n",
    "import numpy as np\n",
    "from pydataset import data\n",
    "from scipy import stats\n",
    "import seaborn as sns\n",
    "import matplotlib.pyplot as plt\n",
    "from math import sqrt"
   ]
  },
  {
   "cell_type": "code",
   "execution_count": null,
   "id": "1f98a543-d382-4985-bd79-2e0115d1501f",
   "metadata": {
    "tags": []
   },
   "outputs": [],
   "source": [
    "#Use the following contingency table to help answer the question of whether using a Macbook and being a Codeup student are independent of each other.\n",
    "\n",
    "## \tCodeup Student\tNot Codeup Student\n",
    "#Uses a Macbook\t49\t20\n",
    "#Doesn't Use A Macbook\t1\t30\n",
    "\n",
    "null = \"There is no association between Macbook and Being a Codeup Student.\"\n",
    "alpha = 0.5\n",
    "\n",
    "observed = [[49,20], [1,30]]\n",
    "observed = pd.DataFrame(observed, columns=['codeup_student', 'not_codeup'], index=['macbook', 'no_macbook'])\n",
    "\n"
   ]
  },
  {
   "cell_type": "code",
   "execution_count": null,
   "id": "1cc154e1-fb55-483a-9207-e44d1db09e70",
   "metadata": {
    "tags": []
   },
   "outputs": [],
   "source": [
    "stats.chi2_contingency(observed)"
   ]
  },
  {
   "cell_type": "code",
   "execution_count": null,
   "id": "70accf10-edf7-42e0-9a95-9fa781d57ca3",
   "metadata": {
    "tags": []
   },
   "outputs": [],
   "source": [
    "print(f'''Observed:\n",
    "{observed.values}\n",
    "\n",
    "Expected:\n",
    "{expected.astype(int)}\n",
    "_____________________\n",
    "\n",
    "𝛘² = {chi2:.4f}\n",
    "p  = {p:.4f}\n",
    "''')"
   ]
  },
  {
   "cell_type": "code",
   "execution_count": null,
   "id": "3a5ac516-3604-43bc-8836-b6a1e292250e",
   "metadata": {
    "tags": []
   },
   "outputs": [],
   "source": [
    "#Conclude:\n",
    "\n",
    "if p < alpha:\n",
    "    print(f'We reject H₀:{null}')\n",
    "else:\n",
    "    print(f'We FAIL to reject H₀:{null}')"
   ]
  },
  {
   "cell_type": "code",
   "execution_count": null,
   "id": "1eb89cc4-b0fb-4b84-abf5-32537071a78d",
   "metadata": {},
   "outputs": [],
   "source": []
  },
  {
   "cell_type": "code",
   "execution_count": null,
   "id": "fe9a408d-d78c-42a9-ba8f-f50c6c9352e0",
   "metadata": {
    "tags": []
   },
   "outputs": [],
   "source": [
    "#Choose another 2 categorical variables from the mpg dataset.\n",
    "\n",
    "#you need to import the mpg dataset and choose two columns to compare. Make sure the columns have the same type of variable types\n",
    "\n",
    "from pydataset import data\n",
    "mpg = data('mpg')\n",
    "mpg.head()"
   ]
  },
  {
   "cell_type": "code",
   "execution_count": null,
   "id": "26f109ce-6c34-4899-8241-8ce85b1a3d17",
   "metadata": {
    "tags": []
   },
   "outputs": [],
   "source": [
    "#State your null and alternative hypotheses.\n",
    "null = 'drv independent from fl'\n",
    "#H_a - 'hwy' is not independent from 'year'\n",
    "\n",
    "#State your alpha.\n",
    "alpha = .05\n",
    "\n",
    "\n",
    "#Perform a chi2 test of independence.\n",
    "\n",
    "\n",
    "#State your conclusion"
   ]
  },
  {
   "cell_type": "code",
   "execution_count": null,
   "id": "70994148-c1ac-4f33-bf7a-765358129b75",
   "metadata": {
    "tags": []
   },
   "outputs": [],
   "source": [
    "#Make the contingency table\n",
    "\n",
    "observed = pd.crosstab(mpg.drv, mpg.fl)\n",
    "observed.head()"
   ]
  },
  {
   "cell_type": "code",
   "execution_count": null,
   "id": "d9ac0a51-2ea2-4a5b-909f-374713c96c24",
   "metadata": {
    "tags": []
   },
   "outputs": [],
   "source": [
    "stats.chi2_contingency(observed)"
   ]
  },
  {
   "cell_type": "code",
   "execution_count": null,
   "id": "b2f55a25-6d43-4c77-bf88-d749a32174fa",
   "metadata": {
    "tags": []
   },
   "outputs": [],
   "source": [
    "chi2, p, degf, expected = stats.chi2_contingency(observed)"
   ]
  },
  {
   "cell_type": "code",
   "execution_count": null,
   "id": "21ad933d-c496-4971-b866-8aa09d998d34",
   "metadata": {
    "tags": []
   },
   "outputs": [],
   "source": [
    "print(f'''Observed:\n",
    "{observed.values}\n",
    "\n",
    "Expected:\n",
    "{expected.astype(int)}\n",
    "_____________________\n",
    "\n",
    "𝛘² = {chi2:.4f}\n",
    "p  = {p:.4f}\n",
    "''')"
   ]
  },
  {
   "cell_type": "code",
   "execution_count": null,
   "id": "b82b64b7-167e-494e-85c5-ca0eef675a64",
   "metadata": {
    "tags": []
   },
   "outputs": [],
   "source": [
    "#Conclude:\n",
    "\n",
    "if p < alpha:\n",
    "    print(f'We reject H₀:{null}')\n",
    "else:\n",
    "    print(f'We FAIL to reject H₀:{null}')"
   ]
  },
  {
   "cell_type": "code",
   "execution_count": 3,
   "id": "556faf94-1270-4e6c-aff6-8fb7d3e4d39d",
   "metadata": {
    "tags": []
   },
   "outputs": [
    {
     "ename": "NameError",
     "evalue": "name 'env' is not defined",
     "output_type": "error",
     "traceback": [
      "\u001b[0;31m---------------------------------------------------------------------------\u001b[0m",
      "\u001b[0;31mNameError\u001b[0m                                 Traceback (most recent call last)",
      "Cell \u001b[0;32mIn[3], line 3\u001b[0m\n\u001b[1;32m      1\u001b[0m \u001b[38;5;66;03m#Use the data from the employees database to answer these questions:\u001b[39;00m\n\u001b[0;32m----> 3\u001b[0m url \u001b[38;5;241m=\u001b[39m env\u001b[38;5;241m.\u001b[39mget_db_url(\u001b[38;5;124m'\u001b[39m\u001b[38;5;124memployees\u001b[39m\u001b[38;5;124m'\u001b[39m)\n",
      "\u001b[0;31mNameError\u001b[0m: name 'env' is not defined"
     ]
    }
   ],
   "source": [
    "#Use the data from the employees database to answer these questions:\n",
    "\n",
    "url = env.get_db_url('employees')"
   ]
  },
  {
   "cell_type": "code",
   "execution_count": null,
   "id": "61abe9ce-7229-42a5-940b-185deaea8422",
   "metadata": {
    "tags": []
   },
   "outputs": [],
   "source": [
    "query = \"\"\"\n",
    "SELECT emp_no, gender, dept_name\n",
    "FROM employees\n",
    "    INNER JOIN dept_emp \n",
    "        using(emp_no)\n",
    "    INNER JOIN departments\n",
    "        using(dept_no)\n",
    "WHERE to_date = '9999-01-01'\n",
    "    and dept_name in ('Marketing', 'Sales')\n",
    "\"\"\""
   ]
  },
  {
   "cell_type": "code",
   "execution_count": null,
   "id": "09ab83d3-43f5-4cd2-a48d-f22a50e0614d",
   "metadata": {
    "tags": []
   },
   "outputs": [],
   "source": [
    "depts = pd.read_sql(\"select * from employees.departments where dept_name = 'Marketing' or dept_name = 'Sales'\", url)\n",
    "depts"
   ]
  },
  {
   "cell_type": "code",
   "execution_count": null,
   "id": "2a4e59cf-a69a-4fad-9655-9a74fe047f45",
   "metadata": {
    "tags": []
   },
   "outputs": [],
   "source": [
    "#read in sql data\n",
    "df = pd.read_sql(query, url)\n",
    "df.head()"
   ]
  },
  {
   "cell_type": "code",
   "execution_count": null,
   "id": "e035a68e-bedb-4efa-a99a-60467964ec94",
   "metadata": {
    "tags": []
   },
   "outputs": [],
   "source": []
  },
  {
   "cell_type": "code",
   "execution_count": null,
   "id": "780975ef-d17d-4db3-a3ee-00738aabe909",
   "metadata": {
    "tags": []
   },
   "outputs": [],
   "source": []
  },
  {
   "cell_type": "code",
   "execution_count": null,
   "id": "39dac3ce-ca2a-45c7-a349-ab4b79650633",
   "metadata": {
    "tags": []
   },
   "outputs": [],
   "source": []
  },
  {
   "cell_type": "code",
   "execution_count": null,
   "id": "5b77c0b3-bd73-4337-b502-30c15085dc50",
   "metadata": {
    "tags": []
   },
   "outputs": [],
   "source": [
    "#Is an employee's gender independent of whether an employee works in sales or marketing? (only look at current employees)\n",
    "null = 'Employees gender is independent of whether employee works in sales or marketing'\n",
    "#This is going to involve employees (to get the gender), and depts to get the departments.\n",
    "\n",
    "observed2 = pd.crosstab(df.gender, df.dept_name)\n",
    "observed2\n"
   ]
  },
  {
   "cell_type": "code",
   "execution_count": null,
   "id": "b9af0ae7-082e-4720-9d42-23887ed2ff15",
   "metadata": {
    "tags": []
   },
   "outputs": [],
   "source": [
    "stats.chi2_contingency(observed2)"
   ]
  },
  {
   "cell_type": "code",
   "execution_count": null,
   "id": "0b28ee8a-75d3-416f-94ce-545dfe46e090",
   "metadata": {
    "tags": []
   },
   "outputs": [],
   "source": [
    "chi2, p, degf, expected = stats.chi2_contingency(observed2)"
   ]
  },
  {
   "cell_type": "code",
   "execution_count": null,
   "id": "807e9ae1-12b6-4277-a054-d99f90e84260",
   "metadata": {
    "tags": []
   },
   "outputs": [],
   "source": [
    "print(f'''Observed:\n",
    "{observed2.values}\n",
    "\n",
    "Expected:\n",
    "{expected.astype(int)}\n",
    "_____________________\n",
    "\n",
    "𝛘² = {chi2:.4f}\n",
    "p  = {p:.4f}\n",
    "''')"
   ]
  },
  {
   "cell_type": "code",
   "execution_count": null,
   "id": "c9056e0c-ef58-4cd0-a278-cc798f531434",
   "metadata": {
    "tags": []
   },
   "outputs": [],
   "source": [
    "#Conclude:\n",
    "\n",
    "if p < alpha:\n",
    "    print(f'We reject H₀:{null}')\n",
    "else:\n",
    "    print(f'We FAIL to reject H₀:{null}')"
   ]
  },
  {
   "cell_type": "code",
   "execution_count": null,
   "id": "3754905d-4272-4f75-a6cc-a6f8d74b4c7d",
   "metadata": {},
   "outputs": [],
   "source": []
  },
  {
   "cell_type": "code",
   "execution_count": null,
   "id": "967616ce-83dd-4eac-be67-59fbe1c38596",
   "metadata": {},
   "outputs": [],
   "source": []
  },
  {
   "cell_type": "code",
   "execution_count": null,
   "id": "07d667aa-b8e2-4521-a475-466143cb08e6",
   "metadata": {},
   "outputs": [],
   "source": []
  },
  {
   "cell_type": "code",
   "execution_count": null,
   "id": "4119dfe4-7fe0-441b-9e11-6143d1de8d07",
   "metadata": {},
   "outputs": [],
   "source": [
    "#Is an employee's gender independent of whether or not they are or have been a manager?\n",
    "\n",
    "null = 'Employees gender is independent of whether or not they have been a manager'"
   ]
  },
  {
   "cell_type": "code",
   "execution_count": null,
   "id": "d3254c2a-0fe6-4899-8e36-ab70e43af483",
   "metadata": {
    "tags": []
   },
   "outputs": [],
   "source": [
    "query = \"\"\"\n",
    "SELECT emp_no, gender, dept_no\n",
    "FROM employees\n",
    "    LEFT JOIN dept_manager\n",
    "        using(emp_no)\n",
    "\"\"\""
   ]
  },
  {
   "cell_type": "code",
   "execution_count": null,
   "id": "bd9c54f6-16df-417d-89df-8e7e7ce88e58",
   "metadata": {
    "tags": []
   },
   "outputs": [],
   "source": [
    "df = pd.read_sql(query, url)\n",
    "df.head()"
   ]
  },
  {
   "cell_type": "code",
   "execution_count": null,
   "id": "f133e118-6bbc-4843-aaec-990011c6bb41",
   "metadata": {
    "tags": []
   },
   "outputs": [],
   "source": [
    "df.dept_no.value_counts(dropna=False)\n",
    "#fill in nulls\n",
    "df.dept_no = df.dept_no.fillna('not_mngr')\n",
    "#make new column using np.where\n",
    "# np.where( condtion, this happens when true, this happens when false)\n",
    "\n",
    "df.dept_no = np.where(df.dept_no != \"not_mngr\", \"manager\", \"not_manager\")"
   ]
  },
  {
   "cell_type": "code",
   "execution_count": null,
   "id": "94aa67a3-25c0-4621-8922-750b3c3fe541",
   "metadata": {
    "tags": []
   },
   "outputs": [],
   "source": [
    "#create contigency table\n",
    "observed3 = pd.crosstab(df.gender, df.dept_no)\n",
    "observed3"
   ]
  },
  {
   "cell_type": "code",
   "execution_count": null,
   "id": "b2bda215-731a-46fe-9501-26ab2925d669",
   "metadata": {
    "tags": []
   },
   "outputs": [],
   "source": []
  },
  {
   "cell_type": "code",
   "execution_count": null,
   "id": "0cb4e995-d7a7-413f-900a-c460c56fdbe9",
   "metadata": {
    "tags": []
   },
   "outputs": [],
   "source": [
    "stats.chi2_contingency(observed3)"
   ]
  },
  {
   "cell_type": "code",
   "execution_count": null,
   "id": "bf9a7e8f-ffee-4893-b727-3f74b7a4a22e",
   "metadata": {
    "tags": []
   },
   "outputs": [],
   "source": [
    "chi2, p, degf, expected = stats.chi2_contingency(observed3)"
   ]
  },
  {
   "cell_type": "code",
   "execution_count": null,
   "id": "1570d1f8-0514-4398-87ac-751bb7d63de6",
   "metadata": {
    "tags": []
   },
   "outputs": [],
   "source": [
    "print(f'''Observed:\n",
    "{observed3.values}\n",
    "\n",
    "Expected:\n",
    "{expected.astype(int)}\n",
    "_____________________\n",
    "\n",
    "𝛘² = {chi2:.4f}\n",
    "p  = {p:.4f}\n",
    "''')"
   ]
  },
  {
   "cell_type": "code",
   "execution_count": null,
   "id": "0b58dff3-7d67-43a1-a2bb-9c2d5558dd19",
   "metadata": {
    "tags": []
   },
   "outputs": [],
   "source": [
    "#Conclude:\n",
    "\n",
    "if p < alpha:\n",
    "    print(f'We reject H₀:{null}')\n",
    "else:\n",
    "    print(f'We FAIL to reject H₀:{null}')"
   ]
  },
  {
   "cell_type": "code",
   "execution_count": null,
   "id": "f26f9161-3a6d-4aba-a2d2-26598ffa7933",
   "metadata": {},
   "outputs": [],
   "source": []
  },
  {
   "cell_type": "code",
   "execution_count": null,
   "id": "7703d9e7-bec5-4051-923d-818415660683",
   "metadata": {},
   "outputs": [],
   "source": []
  },
  {
   "cell_type": "code",
   "execution_count": null,
   "id": "474fb795-3dd3-4be3-ab45-1229255719d2",
   "metadata": {
    "tags": []
   },
   "outputs": [],
   "source": [
    "#Use the telco_churn data.\n",
    "url = env.get_db_url('telco_churn')\n",
    "\n",
    "query = \"\"\"\n",
    "select tenure, monthly_charges from customers\n",
    "\"\"\"\n",
    "df = pd.read_sql(query, url)\n",
    "df.head()\n"
   ]
  },
  {
   "cell_type": "code",
   "execution_count": null,
   "id": "59932830-bbec-4ad2-bcae-d76fb6443928",
   "metadata": {
    "tags": []
   },
   "outputs": [],
   "source": [
    "df.info()"
   ]
  },
  {
   "cell_type": "code",
   "execution_count": null,
   "id": "43075a38-0917-46e1-8015-19f0540daed6",
   "metadata": {
    "tags": []
   },
   "outputs": [],
   "source": [
    "#Does tenure correlate with monthly charges?\n",
    "\n",
    "#H_0 = There is no linear relationship between tenure and monthly charges.\n",
    "#H_A = There is a linear relationship between tenure and monthly charges.\n",
    "\n",
    "null = 'There is no linear relationship between tenure and monthly charges'\n",
    "\n",
    "#set the alpha\n",
    "α = .05\n",
    "\n",
    "#set x and y variables\n",
    "x = df.tenure\n",
    "y = df.monthly_charges"
   ]
  },
  {
   "cell_type": "code",
   "execution_count": null,
   "id": "765740c8-9f37-4678-8ea5-84eafc8bfd1e",
   "metadata": {
    "tags": []
   },
   "outputs": [],
   "source": [
    "#plot our variables\n",
    "\n",
    "plt.scatter(df.tenure, df.monthly_charges)\n",
    "\n",
    "plt.title(\"What's the relationship between tenure and monthly charges?\")\n",
    "plt.xlabel('tenure')\n",
    "plt.ylabel('monthly charges')\n",
    "plt.show()"
   ]
  },
  {
   "cell_type": "code",
   "execution_count": null,
   "id": "a92c89e0-4311-4b01-8410-b51114765ff4",
   "metadata": {
    "tags": []
   },
   "outputs": [],
   "source": [
    "#plot our variables\n",
    "\n",
    "sns.regplot(data=df, x= 'tenure', y='monthly_charges', line_kws=dict(color=\"r\"))\n",
    "\n",
    "plt.title(\"What's the relationship between tenure and monthly charges?\")\n",
    "plt.xlabel('tenure')\n",
    "plt.ylabel('monthly charges')\n",
    "plt.show()"
   ]
  },
  {
   "cell_type": "code",
   "execution_count": null,
   "id": "7a5d474d-a4fa-46c7-ba42-4263d9055a84",
   "metadata": {},
   "outputs": [],
   "source": []
  },
  {
   "cell_type": "code",
   "execution_count": null,
   "id": "9eb68b52-4c6a-4006-a788-d8ae6c9a9d98",
   "metadata": {
    "tags": []
   },
   "outputs": [],
   "source": [
    "fig, axs = plt.subplots(1, 2, figsize=(8, 4))\n",
    "\n",
    "\n",
    "axs[0].hist(x)\n",
    "axs[0].set_title('Tenure Distribution')\n",
    "\n",
    "axs[1].hist(y)\n",
    "axs[1].set_title('Monthly Charges Distribution')\n",
    "\n",
    "plt.show()"
   ]
  },
  {
   "cell_type": "code",
   "execution_count": null,
   "id": "8b995301-7d14-47a7-9810-22fc87960093",
   "metadata": {
    "tags": []
   },
   "outputs": [],
   "source": [
    "def eval_dist(r, p, α=0.05):\n",
    "    \"\"\"\n",
    "    This function will take in:\n",
    "    - r: the test statistic\n",
    "    - p: p-value\n",
    "    - α: id defaulted to 5%\n",
    "    and print out if the data used to create r & p from the stats.shapiro test is normally distributed.\n",
    "    \"\"\"\n",
    "    if p > α:\n",
    "        return print(f\"\"\"The data is normally distributed\"\"\")\n",
    "    else:\n",
    "        return print(f\"\"\"The data is NOT normally distributed\"\"\")"
   ]
  },
  {
   "cell_type": "code",
   "execution_count": null,
   "id": "39e9c0ce-ce27-48ea-88db-b1195f39d4c9",
   "metadata": {
    "tags": []
   },
   "outputs": [],
   "source": [
    "r,p = stats.shapiro(df.tenure)\n",
    "r,p"
   ]
  },
  {
   "cell_type": "code",
   "execution_count": null,
   "id": "0b0e3100-b664-4313-9f02-328bb4bcc11d",
   "metadata": {
    "tags": []
   },
   "outputs": [],
   "source": [
    "eval_dist(r,p)\n"
   ]
  },
  {
   "cell_type": "code",
   "execution_count": null,
   "id": "a4491515-4c28-4ecf-bbf2-4279c6b61cf1",
   "metadata": {
    "tags": []
   },
   "outputs": [],
   "source": [
    "r,p = stats.shapiro(df.monthly_charges)\n",
    "r,p"
   ]
  },
  {
   "cell_type": "code",
   "execution_count": null,
   "id": "6ddee974-34d1-41e4-ac0b-b4724e36b4f3",
   "metadata": {
    "tags": []
   },
   "outputs": [],
   "source": [
    "eval_dist(r,p)"
   ]
  },
  {
   "cell_type": "code",
   "execution_count": null,
   "id": "f6f2f955-a547-4127-b5a6-890db0d2da93",
   "metadata": {
    "tags": []
   },
   "outputs": [],
   "source": [
    "#run stats.pearsonr\n",
    "r, p = stats.pearsonr(x,y)"
   ]
  },
  {
   "cell_type": "code",
   "execution_count": null,
   "id": "0b85514a-a5d3-4636-80fa-d90c420db1ab",
   "metadata": {
    "tags": []
   },
   "outputs": [],
   "source": [
    "#output results\n",
    "print('r =', r)\n",
    "print('p =', p)"
   ]
  },
  {
   "cell_type": "code",
   "execution_count": null,
   "id": "00ca1b26-918a-4a37-aadf-11e034de24c8",
   "metadata": {
    "tags": []
   },
   "outputs": [],
   "source": [
    "#evaluate p-value\n",
    "if p < α:\n",
    "    print(f\"\"\"We reject H₀, there appears to be a linear relationship with a Correlation Coefficient of {r:2f}.\n",
    "P-value: {p}\"\"\")\n",
    "    \n",
    "else:\n",
    "    print(f\"\"\"We fail to reject H₀,there does not appear to be a linear relationship.\n",
    "Pearson’s r: {r:2f}\n",
    "P-value: {p}\"\"\")"
   ]
  },
  {
   "cell_type": "code",
   "execution_count": null,
   "id": "d8d35433-08ce-4997-ad23-d6681e9e7971",
   "metadata": {},
   "outputs": [],
   "source": []
  },
  {
   "cell_type": "code",
   "execution_count": null,
   "id": "ff52b3cd-2aa5-4923-ab3d-9bd454f77b21",
   "metadata": {},
   "outputs": [],
   "source": []
  },
  {
   "cell_type": "code",
   "execution_count": null,
   "id": "31ce7ab4-53ae-447f-abcc-dab8c0f7e5b8",
   "metadata": {},
   "outputs": [],
   "source": []
  },
  {
   "cell_type": "code",
   "execution_count": null,
   "id": "80678311-2de8-40a4-a4ae-ae5ca19f32a2",
   "metadata": {
    "tags": []
   },
   "outputs": [],
   "source": []
  },
  {
   "cell_type": "code",
   "execution_count": null,
   "id": "00de3cf1-85cd-4106-a084-5d1cdecfc028",
   "metadata": {},
   "outputs": [],
   "source": [
    "#Does tenure correlate with Total charges?"
   ]
  },
  {
   "cell_type": "code",
   "execution_count": null,
   "id": "a0ccda81-0801-4ef4-8f58-aeedcbd25096",
   "metadata": {
    "tags": []
   },
   "outputs": [],
   "source": [
    "query = \"\"\"\n",
    "select tenure, total_charges from customers\n",
    "\"\"\"\n",
    "df = pd.read_sql(query, url)\n",
    "df.head()"
   ]
  },
  {
   "cell_type": "code",
   "execution_count": null,
   "id": "5a79d57f-51be-4f50-b31b-6e44967dd9c4",
   "metadata": {
    "tags": []
   },
   "outputs": [],
   "source": [
    "df.info()"
   ]
  },
  {
   "cell_type": "code",
   "execution_count": null,
   "id": "1147efed-c44c-4601-becd-953c012663e2",
   "metadata": {
    "tags": []
   },
   "outputs": [],
   "source": [
    "#Does tenure correlate with Total charges?\n",
    "\n",
    "#H_0 = There is no linear relationship between tenure and total charges.\n",
    "#H_A = There is a linear relationship between tenure and total charges.\n",
    "\n",
    "null = 'There is no linear relationship between tenure and total charges'\n",
    "\n",
    "#set the alpha\n",
    "α = .05\n",
    "\n",
    "#set x and y variables\n",
    "x = df.tenure\n",
    "y = df.total_charges"
   ]
  },
  {
   "cell_type": "code",
   "execution_count": null,
   "id": "02edc1de-180e-4aed-ac96-923268028607",
   "metadata": {
    "tags": []
   },
   "outputs": [],
   "source": [
    "#df.total_charges.replace(to_replace = \"\", value = 0, inplace=True)\n",
    "df.total_charges = df.total_charges.str.replace('',\"0\")"
   ]
  },
  {
   "cell_type": "code",
   "execution_count": null,
   "id": "a84d762a-d551-4c1f-9b15-c539dd0976d5",
   "metadata": {
    "tags": []
   },
   "outputs": [],
   "source": [
    "df.total_charges.sort_values()"
   ]
  },
  {
   "cell_type": "code",
   "execution_count": null,
   "id": "b1a08bd7-6d1c-48e4-b2ea-e39967cefc51",
   "metadata": {
    "tags": []
   },
   "outputs": [],
   "source": []
  },
  {
   "cell_type": "code",
   "execution_count": null,
   "id": "a6f1fbe2-a8c3-4340-9f80-3252c920d2f0",
   "metadata": {
    "tags": []
   },
   "outputs": [],
   "source": [
    "#plot our variables\n",
    "\n",
    "plt.scatter(df.tenure, df.total_charges)\n",
    "\n",
    "plt.title(\"What's the relationship between tenure and total charges?\")\n",
    "plt.xlabel('tenure')\n",
    "plt.ylabel('total charges')\n",
    "plt.show()"
   ]
  },
  {
   "cell_type": "code",
   "execution_count": null,
   "id": "064eb29c-cab5-4aeb-8910-1e76683356c7",
   "metadata": {
    "tags": []
   },
   "outputs": [],
   "source": [
    "#plot our variables\n",
    "\n",
    "sns.regplot(data=df, x= 'tenure', y='total_charges', line_kws=dict(color=\"r\"))\n",
    "\n",
    "plt.title(\"What's the relationship between tenure and total charges?\")\n",
    "plt.xlabel('tenure')\n",
    "plt.ylabel('total charges')\n",
    "plt.show()"
   ]
  },
  {
   "cell_type": "code",
   "execution_count": null,
   "id": "eeeec527-81bd-4b0d-907b-28673990d504",
   "metadata": {},
   "outputs": [],
   "source": []
  },
  {
   "cell_type": "code",
   "execution_count": null,
   "id": "eb204b45-d4b9-4469-8f3e-92980ec34de6",
   "metadata": {
    "tags": []
   },
   "outputs": [],
   "source": [
    "fig, axs = plt.subplots(1, 2, figsize=(8, 4))\n",
    "\n",
    "\n",
    "axs[0].hist(x)\n",
    "axs[0].set_title('Tenure Distribution')\n",
    "\n",
    "axs[1].hist(y)\n",
    "axs[1].set_title('Total Charges Distribution')\n",
    "\n",
    "plt.show()"
   ]
  },
  {
   "cell_type": "code",
   "execution_count": null,
   "id": "e1b03dbc-29d5-4acf-a794-0841185f07e9",
   "metadata": {
    "tags": []
   },
   "outputs": [],
   "source": [
    "def eval_dist(r, p, α=0.05):\n",
    "    \"\"\"\n",
    "    This function will take in:\n",
    "    - r: the test statistic\n",
    "    - p: p-value\n",
    "    - α: id defaulted to 5%\n",
    "    and print out if the data used to create r & p from the stats.shapiro test is normally distributed.\n",
    "    \"\"\"\n",
    "    if p > α:\n",
    "        return print(f\"\"\"The data is normally distributed\"\"\")\n",
    "    else:\n",
    "        return print(f\"\"\"The data is NOT normally distributed\"\"\")"
   ]
  },
  {
   "cell_type": "code",
   "execution_count": null,
   "id": "5eed21f6-0441-4cc5-82df-e2e7ee2a41ee",
   "metadata": {
    "tags": []
   },
   "outputs": [],
   "source": [
    "r,p = stats.shapiro(df.tenure)\n",
    "r,p"
   ]
  },
  {
   "cell_type": "code",
   "execution_count": null,
   "id": "42528c18-9363-4656-a61a-837a8c1eff48",
   "metadata": {
    "tags": []
   },
   "outputs": [],
   "source": [
    "eval_dist(r,p)\n"
   ]
  },
  {
   "cell_type": "code",
   "execution_count": null,
   "id": "64e24d13-c2f0-45f2-bb7a-729ecf9218a2",
   "metadata": {
    "tags": []
   },
   "outputs": [],
   "source": [
    "r,p = stats.shapiro(df.total_charges)\n",
    "r,p"
   ]
  },
  {
   "cell_type": "code",
   "execution_count": null,
   "id": "0e2f1493-7197-447e-b070-6fb7299101c1",
   "metadata": {
    "tags": []
   },
   "outputs": [],
   "source": [
    "eval_dist(r,p)"
   ]
  },
  {
   "cell_type": "code",
   "execution_count": null,
   "id": "4bf1a2ba-9b90-4fae-a185-41c743038d39",
   "metadata": {
    "tags": []
   },
   "outputs": [],
   "source": [
    "#run stats.pearsonr\n",
    "r, p = stats.pearsonr(x,y)"
   ]
  },
  {
   "cell_type": "code",
   "execution_count": null,
   "id": "59714d73-2901-44a8-946f-884d5101daa7",
   "metadata": {
    "tags": []
   },
   "outputs": [],
   "source": [
    "#output results\n",
    "print('r =', r)\n",
    "print('p =', p)"
   ]
  },
  {
   "cell_type": "code",
   "execution_count": null,
   "id": "ff6be794-13c9-41bb-b96e-f5e7bd153ca2",
   "metadata": {
    "tags": []
   },
   "outputs": [],
   "source": [
    "#evaluate p-value\n",
    "if p < α:\n",
    "    print(f\"\"\"We reject H₀, there appears to be a linear relationship with a Correlation Coefficient of {r:2f}.\n",
    "P-value: {p}\"\"\")\n",
    "    \n",
    "else:\n",
    "    print(f\"\"\"We fail to reject H₀,there does not appear to be a linear relationship.\n",
    "Pearson’s r: {r:2f}\n",
    "P-value: {p}\"\"\")"
   ]
  },
  {
   "cell_type": "code",
   "execution_count": null,
   "id": "a72c278c-47a5-4d31-89ce-95fcb08694d2",
   "metadata": {},
   "outputs": [],
   "source": [
    "#What happens if you control for phone and internet service?"
   ]
  },
  {
   "cell_type": "code",
   "execution_count": null,
   "id": "406cb439-4c0b-4f53-af5b-c400d8246799",
   "metadata": {},
   "outputs": [],
   "source": []
  },
  {
   "cell_type": "code",
   "execution_count": null,
   "id": "4edfb879-c962-4420-9ecb-950999f6ddb5",
   "metadata": {},
   "outputs": [],
   "source": []
  },
  {
   "cell_type": "code",
   "execution_count": null,
   "id": "5ee60d9e-920b-41d7-ac26-35aa70af76a7",
   "metadata": {},
   "outputs": [],
   "source": []
  },
  {
   "cell_type": "code",
   "execution_count": null,
   "id": "f53c9bcb-3fca-4cbe-99dd-33b70a0929b9",
   "metadata": {},
   "outputs": [],
   "source": []
  },
  {
   "cell_type": "code",
   "execution_count": null,
   "id": "75bafdc6-2687-4328-9e5a-e50300285287",
   "metadata": {
    "tags": []
   },
   "outputs": [],
   "source": []
  },
  {
   "cell_type": "code",
   "execution_count": null,
   "id": "0ec8cead-b83a-4954-88d3-0432e5e5ec51",
   "metadata": {
    "tags": []
   },
   "outputs": [],
   "source": [
    "url = env.get_db_url('employees')"
   ]
  },
  {
   "cell_type": "code",
   "execution_count": null,
   "id": "18c82c49-2ed0-47ce-864f-912ea1a60190",
   "metadata": {
    "tags": []
   },
   "outputs": [],
   "source": [
    "query = \"\"\"\n",
    "SELECT * from employees.salaries\n",
    "\"\"\""
   ]
  },
  {
   "cell_type": "code",
   "execution_count": null,
   "id": "f1dd7b69-9cb6-414b-9ff3-4897c51ad43f",
   "metadata": {
    "tags": []
   },
   "outputs": [],
   "source": [
    "df1 = pd.read_sql(query, url)\n",
    "df1.head()"
   ]
  },
  {
   "cell_type": "code",
   "execution_count": null,
   "id": "2ac2106c-3cf1-4d36-ba44-136138a01adc",
   "metadata": {
    "tags": []
   },
   "outputs": [],
   "source": [
    "#Use the employees database.\n",
    "#Is there a relationship between how long an employee has been with the company and their salary?\n",
    "\n",
    "\n"
   ]
  },
  {
   "cell_type": "code",
   "execution_count": null,
   "id": "de132827-4818-43b7-a2ee-90ce10177c27",
   "metadata": {
    "tags": []
   },
   "outputs": [],
   "source": [
    "df.head()"
   ]
  },
  {
   "cell_type": "code",
   "execution_count": null,
   "id": "2d588325-77db-499c-8dd2-f907c9321fd3",
   "metadata": {},
   "outputs": [],
   "source": [
    "#H_0 There is no linear relationship between how long an employee has been with the company and their salary\n",
    "#H_A There is a linear relationship between how long an employee has been with the company and their salary\n",
    "\n",
    "null = 'There is no linear relationship between how long an employee has been with the company and their salary'"
   ]
  },
  {
   "cell_type": "code",
   "execution_count": null,
   "id": "8852acdf-16a5-4e62-8549-34523786d1dc",
   "metadata": {},
   "outputs": [],
   "source": [
    "#set the alpha\n",
    "α = .05\n",
    "\n",
    "#set x and y variables\n",
    "x = \n",
    "y ="
   ]
  },
  {
   "cell_type": "code",
   "execution_count": null,
   "id": "0d23c69b-ad2f-4559-891a-fe87714a0dfd",
   "metadata": {},
   "outputs": [],
   "source": [
    "#plot our variables\n",
    "plt.scatter(df.hours_studied, df.exam_score)\n",
    "\n",
    "plt.title(\"What's the relationship between exam scores and hours studied?\")\n",
    "plt.xlabel('hours studied')\n",
    "plt.ylabel('exam scores')\n",
    "plt.show()"
   ]
  },
  {
   "cell_type": "code",
   "execution_count": null,
   "id": "b524eed7-c413-4fce-837b-12a45dc47be5",
   "metadata": {},
   "outputs": [],
   "source": [
    "#Test for Assumptions(distributions)\n",
    "fig, axs = plt.subplots(1, 2, figsize=(8, 4))\n",
    "\n",
    "axs[0].hist(x)\n",
    "axs[0].set_title('Hours Studied Distribution')\n",
    "\n",
    "axs[1].hist(y)\n",
    "axs[1].set_title('Exam Score Distribution')\n",
    "\n",
    "plt.show()"
   ]
  },
  {
   "cell_type": "code",
   "execution_count": null,
   "id": "a7351475-26c7-45d3-8b0f-181922c526c4",
   "metadata": {},
   "outputs": [],
   "source": [
    "#Shapiro Test\n",
    "def eval_dist(r, p, α=0.05):\n",
    "    \"\"\"\n",
    "    This function will take in:\n",
    "    - r: the test statistic\n",
    "    - p: p-value\n",
    "    - α: id defaulted to 5%\n",
    "    and print out if the data used to create r & p from the stats.shapiro test is normally distributed.\n",
    "    \"\"\"\n",
    "    if p > α:\n",
    "        return print(f\"\"\"The data is normally distributed\"\"\")\n",
    "    else:\n",
    "        return print(f\"\"\"The data is NOT normally distributed\"\"\")"
   ]
  },
  {
   "cell_type": "code",
   "execution_count": null,
   "id": "b35430e7-1fa5-4afb-b38b-d3cabac78096",
   "metadata": {},
   "outputs": [],
   "source": [
    "r,p = stats.shapiro(df.hours_studied)\n",
    "r,p"
   ]
  },
  {
   "cell_type": "code",
   "execution_count": null,
   "id": "34856bbc-0264-462b-80e3-231e3983fed4",
   "metadata": {},
   "outputs": [],
   "source": [
    "eval_dist(r,p)\n"
   ]
  },
  {
   "cell_type": "code",
   "execution_count": null,
   "id": "74c96cdf-a9fc-43f4-a91d-d8170645519a",
   "metadata": {},
   "outputs": [],
   "source": [
    "r,p = stats.shapiro(df.exam_score)\n",
    "r,p"
   ]
  },
  {
   "cell_type": "code",
   "execution_count": null,
   "id": "b374afdf-c4d2-4066-9add-5382e3a44207",
   "metadata": {},
   "outputs": [],
   "source": [
    "eval_dist(r,p)\n"
   ]
  },
  {
   "cell_type": "code",
   "execution_count": null,
   "id": "213a1ae9-5339-4cf3-af47-f416c665a07c",
   "metadata": {},
   "outputs": [],
   "source": [
    "#run stats.pearsonr\n",
    "r, p = stats.pearsonr(x,y)"
   ]
  },
  {
   "cell_type": "code",
   "execution_count": null,
   "id": "2cd27fc1-39c3-4846-99cc-52f4c5ae8ad0",
   "metadata": {},
   "outputs": [],
   "source": [
    "#output results\n",
    "print('r =', r)\n",
    "print('p =', p)"
   ]
  },
  {
   "cell_type": "code",
   "execution_count": null,
   "id": "efc8736c-5b1a-4113-81ba-6626fa23f005",
   "metadata": {},
   "outputs": [],
   "source": [
    "#evaluate p-value\n",
    "if p < α:\n",
    "    print(f\"\"\"We reject H₀, there appears to be a linear relationship with a Correlation Coefficient of {r:2f}.\n",
    "P-value: {p}\"\"\")\n",
    "    \n",
    "else:\n",
    "    print(f\"\"\"We fail to reject H₀,there does not appear to be a linear relationship.\n",
    "Pearson’s r: {r:2f}\n",
    "P-value: {p}\"\"\")"
   ]
  },
  {
   "cell_type": "code",
   "execution_count": null,
   "id": "6dc54a26-8b97-45a6-850d-a96f85f24938",
   "metadata": {},
   "outputs": [],
   "source": []
  },
  {
   "cell_type": "code",
   "execution_count": null,
   "id": "05a6382b-5067-4dc1-a7a9-9e61de48d5cc",
   "metadata": {},
   "outputs": [],
   "source": []
  },
  {
   "cell_type": "code",
   "execution_count": null,
   "id": "30ebfba9-cc79-4a28-9bb6-a8393190ec70",
   "metadata": {},
   "outputs": [],
   "source": []
  },
  {
   "cell_type": "code",
   "execution_count": null,
   "id": "7cfbccca-0851-4d29-a5d3-6329c4b48b9d",
   "metadata": {},
   "outputs": [],
   "source": []
  },
  {
   "cell_type": "code",
   "execution_count": null,
   "id": "c87cc685-4092-4034-95e8-194766b4dd81",
   "metadata": {},
   "outputs": [],
   "source": []
  },
  {
   "cell_type": "code",
   "execution_count": null,
   "id": "1436fb5e-ab1a-4c11-af1b-bb9accfe5f6e",
   "metadata": {},
   "outputs": [],
   "source": []
  },
  {
   "cell_type": "code",
   "execution_count": null,
   "id": "b37c1625-e2e0-4d1f-bdf4-17d377206844",
   "metadata": {},
   "outputs": [],
   "source": []
  },
  {
   "cell_type": "code",
   "execution_count": null,
   "id": "b8c61c7c-03e1-4d26-a0bb-452d17f7e35f",
   "metadata": {},
   "outputs": [],
   "source": []
  },
  {
   "cell_type": "code",
   "execution_count": null,
   "id": "ef94c475-7821-44aa-aed9-64bd6f38cfdd",
   "metadata": {},
   "outputs": [],
   "source": [
    "#Is there a relationship between how long an employee has been with the company and the number of titles they have had?\n",
    "\n",
    "#H_0 There is no linear relationship between how long an employee has been with the company and the number of titles they have had\n",
    "#H_A There is a linear relationship between how long an employee has been with the company and the number of titles they have had\n",
    "\n",
    "null = 'There is no linear relationship between how long an employee has been with the company and the number of titles they have had'"
   ]
  },
  {
   "cell_type": "code",
   "execution_count": null,
   "id": "a161cc0f-c8f8-404f-902d-97e1300d58c7",
   "metadata": {},
   "outputs": [],
   "source": [
    "#set the alpha\n",
    "α = .05\n",
    "\n",
    "#set x and y variables\n",
    "x = \n",
    "y ="
   ]
  },
  {
   "cell_type": "code",
   "execution_count": null,
   "id": "cbe10b46-5188-4998-8147-9cb61ae4d30a",
   "metadata": {},
   "outputs": [],
   "source": [
    "#plot our variables\n",
    "plt.scatter(df.hours_studied, df.exam_score)\n",
    "\n",
    "plt.title(\"What's the relationship between exam scores and hours studied?\")\n",
    "plt.xlabel('hours studied')\n",
    "plt.ylabel('exam scores')\n",
    "plt.show()"
   ]
  },
  {
   "cell_type": "code",
   "execution_count": null,
   "id": "7a03f382-ed2d-464f-85d9-c8fea695d245",
   "metadata": {},
   "outputs": [],
   "source": [
    "#Test for Assumptions(distributions)\n",
    "fig, axs = plt.subplots(1, 2, figsize=(8, 4))\n",
    "\n",
    "axs[0].hist(x)\n",
    "axs[0].set_title('Hours Studied Distribution')\n",
    "\n",
    "axs[1].hist(y)\n",
    "axs[1].set_title('Exam Score Distribution')\n",
    "\n",
    "plt.show()"
   ]
  },
  {
   "cell_type": "code",
   "execution_count": null,
   "id": "f494676b-cd6e-4c9c-b90d-97c7ce06df8d",
   "metadata": {},
   "outputs": [],
   "source": [
    "#Shapiro Test\n",
    "def eval_dist(r, p, α=0.05):\n",
    "    \"\"\"\n",
    "    This function will take in:\n",
    "    - r: the test statistic\n",
    "    - p: p-value\n",
    "    - α: id defaulted to 5%\n",
    "    and print out if the data used to create r & p from the stats.shapiro test is normally distributed.\n",
    "    \"\"\"\n",
    "    if p > α:\n",
    "        return print(f\"\"\"The data is normally distributed\"\"\")\n",
    "    else:\n",
    "        return print(f\"\"\"The data is NOT normally distributed\"\"\")"
   ]
  },
  {
   "cell_type": "code",
   "execution_count": null,
   "id": "e2db3cda-3803-4b8b-9bf8-938ce57efe1b",
   "metadata": {},
   "outputs": [],
   "source": [
    "r,p = stats.shapiro(df.hours_studied)\n",
    "r,p"
   ]
  },
  {
   "cell_type": "code",
   "execution_count": null,
   "id": "63c07c78-d168-42be-a718-e7bd3eb293bf",
   "metadata": {},
   "outputs": [],
   "source": [
    "eval_dist(r,p)\n"
   ]
  },
  {
   "cell_type": "code",
   "execution_count": null,
   "id": "3468bd1f-592b-46ac-815b-ed2b5d685556",
   "metadata": {},
   "outputs": [],
   "source": [
    "r,p = stats.shapiro(df.exam_score)\n",
    "r,p"
   ]
  },
  {
   "cell_type": "code",
   "execution_count": null,
   "id": "b7afcfc2-7c75-4219-ad06-92106f915621",
   "metadata": {},
   "outputs": [],
   "source": [
    "eval_dist(r,p)\n"
   ]
  },
  {
   "cell_type": "code",
   "execution_count": null,
   "id": "a37e879a-ef6a-478e-9b0b-b741e1334891",
   "metadata": {},
   "outputs": [],
   "source": [
    "#run stats.pearsonr\n",
    "r, p = stats.pearsonr(x,y)"
   ]
  },
  {
   "cell_type": "code",
   "execution_count": null,
   "id": "5a0175be-b5c6-45b0-80b5-d5f4ce2fbbcb",
   "metadata": {},
   "outputs": [],
   "source": [
    "#output results\n",
    "print('r =', r)\n",
    "print('p =', p)"
   ]
  },
  {
   "cell_type": "code",
   "execution_count": null,
   "id": "eb739db7-0297-47d6-a6c5-fc536c817274",
   "metadata": {},
   "outputs": [],
   "source": [
    "#evaluate p-value\n",
    "if p < α:\n",
    "    print(f\"\"\"We reject H₀, there appears to be a linear relationship with a Correlation Coefficient of {r:2f}.\n",
    "P-value: {p}\"\"\")\n",
    "    \n",
    "else:\n",
    "    print(f\"\"\"We fail to reject H₀,there does not appear to be a linear relationship.\n",
    "Pearson’s r: {r:2f}\n",
    "P-value: {p}\"\"\")"
   ]
  },
  {
   "cell_type": "code",
   "execution_count": null,
   "id": "e82cf802-7980-4b4b-8752-8651fbdf82ce",
   "metadata": {},
   "outputs": [],
   "source": []
  },
  {
   "cell_type": "code",
   "execution_count": null,
   "id": "048992de-334b-456f-be3d-ae8f90cc985d",
   "metadata": {},
   "outputs": [],
   "source": []
  },
  {
   "cell_type": "code",
   "execution_count": null,
   "id": "9778a95b-04eb-43d5-a145-0d37c9dd5b2f",
   "metadata": {},
   "outputs": [],
   "source": []
  },
  {
   "cell_type": "code",
   "execution_count": null,
   "id": "2f6e06b0-41f8-4666-98c6-e78ce43f8d00",
   "metadata": {},
   "outputs": [],
   "source": []
  },
  {
   "cell_type": "code",
   "execution_count": null,
   "id": "27218bfd-cedf-431b-84e9-0cc58e612149",
   "metadata": {},
   "outputs": [],
   "source": [
    "#Use the sleepstudy data.\n",
    "#Is there a relationship between days and reaction time?"
   ]
  },
  {
   "cell_type": "code",
   "execution_count": null,
   "id": "154311b4-417c-4ebe-b565-3f766da9e3f4",
   "metadata": {},
   "outputs": [],
   "source": []
  },
  {
   "cell_type": "code",
   "execution_count": null,
   "id": "436f0e9c-dd43-47b4-b347-8d2509cd56b1",
   "metadata": {},
   "outputs": [],
   "source": [
    "#set the alpha\n",
    "α = .05\n",
    "\n",
    "#set x and y variables\n",
    "x = \n",
    "y ="
   ]
  },
  {
   "cell_type": "code",
   "execution_count": null,
   "id": "1e56de52-a4db-4bf9-89d1-5210e628a17c",
   "metadata": {},
   "outputs": [],
   "source": [
    "#plot our variables\n",
    "plt.scatter(df.hours_studied, df.exam_score)\n",
    "\n",
    "plt.title(\"What's the relationship between exam scores and hours studied?\")\n",
    "plt.xlabel('hours studied')\n",
    "plt.ylabel('exam scores')\n",
    "plt.show()"
   ]
  },
  {
   "cell_type": "code",
   "execution_count": null,
   "id": "6e5ad497-0c47-419a-b582-453055494771",
   "metadata": {},
   "outputs": [],
   "source": [
    "#Test for Assumptions(distributions)\n",
    "fig, axs = plt.subplots(1, 2, figsize=(8, 4))\n",
    "\n",
    "axs[0].hist(x)\n",
    "axs[0].set_title('Hours Studied Distribution')\n",
    "\n",
    "axs[1].hist(y)\n",
    "axs[1].set_title('Exam Score Distribution')\n",
    "\n",
    "plt.show()"
   ]
  },
  {
   "cell_type": "code",
   "execution_count": null,
   "id": "ecae9848-f6a6-4bb8-8070-bf242b4e6802",
   "metadata": {},
   "outputs": [],
   "source": [
    "#Shapiro Test\n",
    "def eval_dist(r, p, α=0.05):\n",
    "    \"\"\"\n",
    "    This function will take in:\n",
    "    - r: the test statistic\n",
    "    - p: p-value\n",
    "    - α: id defaulted to 5%\n",
    "    and print out if the data used to create r & p from the stats.shapiro test is normally distributed.\n",
    "    \"\"\"\n",
    "    if p > α:\n",
    "        return print(f\"\"\"The data is normally distributed\"\"\")\n",
    "    else:\n",
    "        return print(f\"\"\"The data is NOT normally distributed\"\"\")"
   ]
  },
  {
   "cell_type": "code",
   "execution_count": null,
   "id": "0916a927-ee11-4167-97e9-186bbe5dd813",
   "metadata": {},
   "outputs": [],
   "source": [
    "r,p = stats.shapiro(df.hours_studied)\n",
    "r,p"
   ]
  },
  {
   "cell_type": "code",
   "execution_count": null,
   "id": "7967c8e0-7fb6-4eaa-bd02-a0922382e392",
   "metadata": {},
   "outputs": [],
   "source": [
    "eval_dist(r,p)\n"
   ]
  },
  {
   "cell_type": "code",
   "execution_count": null,
   "id": "ed02b86e-c3a3-4183-913e-394128281bc2",
   "metadata": {},
   "outputs": [],
   "source": [
    "r,p = stats.shapiro(df.exam_score)\n",
    "r,p"
   ]
  },
  {
   "cell_type": "code",
   "execution_count": null,
   "id": "faffd746-e700-4dbf-9845-8fc0e024680d",
   "metadata": {},
   "outputs": [],
   "source": [
    "eval_dist(r,p)\n"
   ]
  },
  {
   "cell_type": "code",
   "execution_count": null,
   "id": "2ab57676-dcb3-44ed-be26-08bd6587550e",
   "metadata": {},
   "outputs": [],
   "source": [
    "#run stats.pearsonr\n",
    "r, p = stats.pearsonr(x,y)"
   ]
  },
  {
   "cell_type": "code",
   "execution_count": null,
   "id": "64394870-630a-46dc-8ee6-03ba31965a85",
   "metadata": {},
   "outputs": [],
   "source": [
    "#output results\n",
    "print('r =', r)\n",
    "print('p =', p)"
   ]
  },
  {
   "cell_type": "code",
   "execution_count": null,
   "id": "2aad93fe-2c49-45e5-a9a5-68ae939ed5b1",
   "metadata": {},
   "outputs": [],
   "source": [
    "#evaluate p-value\n",
    "if p < α:\n",
    "    print(f\"\"\"We reject H₀, there appears to be a linear relationship with a Correlation Coefficient of {r:2f}.\n",
    "P-value: {p}\"\"\")\n",
    "    \n",
    "else:\n",
    "    print(f\"\"\"We fail to reject H₀,there does not appear to be a linear relationship.\n",
    "Pearson’s r: {r:2f}\n",
    "P-value: {p}\"\"\")"
   ]
  },
  {
   "cell_type": "code",
   "execution_count": null,
   "id": "2c5d615f-1985-4386-bc39-c78051a9b7d8",
   "metadata": {},
   "outputs": [],
   "source": []
  },
  {
   "cell_type": "code",
   "execution_count": null,
   "id": "e862c02b-120e-41e5-87b0-b205e7319033",
   "metadata": {},
   "outputs": [],
   "source": []
  },
  {
   "cell_type": "code",
   "execution_count": null,
   "id": "093d370d-e2e6-486b-be26-56edbf427172",
   "metadata": {},
   "outputs": [],
   "source": []
  },
  {
   "cell_type": "code",
   "execution_count": null,
   "id": "96a73a20-6d53-4e59-9aba-cafb7df3c97d",
   "metadata": {
    "tags": []
   },
   "outputs": [],
   "source": [
    "import numpy as np\n",
    "import seaborn as sns\n",
    "import scipy.stats as stats\n",
    "import pandas as pd\n",
    "import matplotlib.pyplot as plt"
   ]
  },
  {
   "cell_type": "code",
   "execution_count": null,
   "id": "4aafb01c-dfd5-4812-9b30-3eeec99284e3",
   "metadata": {},
   "outputs": [],
   "source": [
    "#Answer with the type of test you would use (assume normal distribution):\n",
    "\n",
    "#Is there a difference in grades of students on the second floor compared to grades of all students?\n",
    "#   1 sample t-test\n",
    "\n",
    "#Are adults who drink milk taller than adults who don't drink milk?\n",
    "#   2 sample t-test\n",
    "\n",
    "#Is the price of gas higher in Texas or in New Mexico?\n",
    "#   2 sample t-test\n",
    "\n",
    "#Are there differences in stress levels between students who take data science vs students who take web development vs students who take cloud academy?\n",
    "#   ANOVA"
   ]
  },
  {
   "cell_type": "code",
   "execution_count": null,
   "id": "cfebfe0d-6a2b-41cd-a0c4-a5a8974778aa",
   "metadata": {},
   "outputs": [],
   "source": []
  },
  {
   "cell_type": "code",
   "execution_count": null,
   "id": "50d06adf-ea5c-4828-b995-c63f9693788b",
   "metadata": {},
   "outputs": [],
   "source": []
  },
  {
   "cell_type": "code",
   "execution_count": null,
   "id": "4938f345-de18-4a72-89f9-a33c1199019a",
   "metadata": {
    "tags": []
   },
   "outputs": [],
   "source": [
    "#Ace Realty wants to determine whether the average time it takes to sell homes is different for its two offices. \n",
    "#A sample of 40 sales from office #1 revealed a mean of 90 days and a standard deviation of 15 days. \n",
    "#A sample of 50 sales from office #2 revealed a mean of 100 days and a standard deviation of 20 days. Use a .05 level of significance.\n",
    "\n",
    "#I'm comparing two observed means(independent samples) for ANY difference, AKA Two Sample T-Test (2-tail)\n",
    "\n",
    "#H_0 = There is no difference in the average time it takes to sell homes between office_1 and office_2\n",
    "#H_A = There is a difference in the average time it takes to sell homes between office_1 and office_2\n",
    "\n",
    "office_1 = stats.norm(90, 15).rvs(40)\n",
    "office_2 = stats.norm(100, 20).rvs(50)\n",
    "\n",
    "#The sample of sales are coming from two different offices, so the observations are independent. First assumption has been verified.\n",
    "#There are more than 30 observances, so the second assumption has been verified.\n",
    "\n",
    "alpha = 0.05\n",
    "\n",
    "\n",
    "stat, pval = stats.levene(office_1, office_2)\n",
    "pval"
   ]
  },
  {
   "cell_type": "code",
   "execution_count": null,
   "id": "e3b79f69-53c0-4351-b5cc-80bd5225431b",
   "metadata": {},
   "outputs": [],
   "source": [
    "#pval is above the alpha, so equal variance has been verified."
   ]
  },
  {
   "cell_type": "code",
   "execution_count": null,
   "id": "8a40e208-2d4d-4d73-a2f0-304e1f79c024",
   "metadata": {
    "tags": []
   },
   "outputs": [],
   "source": [
    "t, p = stats.ttest_ind(office_1, office_2)\n",
    "t, p"
   ]
  },
  {
   "cell_type": "code",
   "execution_count": null,
   "id": "9f721233-43d2-41ea-9b07-a250f2f0181f",
   "metadata": {},
   "outputs": [],
   "source": [
    "#The pval is greater than the alpha, so we fail to reject the H_0"
   ]
  },
  {
   "cell_type": "code",
   "execution_count": null,
   "id": "5bb7e965-0baa-4406-b098-207e2ba0a2ef",
   "metadata": {},
   "outputs": [],
   "source": []
  },
  {
   "cell_type": "code",
   "execution_count": null,
   "id": "1c6c0bed-58a9-4821-8ea8-7f0c44d15456",
   "metadata": {},
   "outputs": [],
   "source": []
  },
  {
   "cell_type": "code",
   "execution_count": null,
   "id": "d7d84627-0bb7-43c3-a070-4f3d7dcdd374",
   "metadata": {},
   "outputs": [],
   "source": []
  },
  {
   "cell_type": "code",
   "execution_count": null,
   "id": "dfc1453a-e3bc-4204-b568-58fd38190436",
   "metadata": {},
   "outputs": [],
   "source": [
    "#Load the mpg dataset and use it to answer the following questions:\n"
   ]
  },
  {
   "cell_type": "code",
   "execution_count": null,
   "id": "3edc8291-e859-4248-aab1-cf9c6764c815",
   "metadata": {
    "tags": []
   },
   "outputs": [],
   "source": [
    "from pydataset import data\n",
    "\n",
    "mpg = data('mpg')\n",
    "\n",
    "mpg.head()"
   ]
  },
  {
   "cell_type": "code",
   "execution_count": null,
   "id": "76784f47-a88d-4a17-8eb8-511d82c4ff9b",
   "metadata": {
    "tags": []
   },
   "outputs": [],
   "source": [
    "mpg.info()"
   ]
  },
  {
   "cell_type": "code",
   "execution_count": null,
   "id": "85dd3fb3-4cf9-450c-8d6d-76a9c64afdde",
   "metadata": {
    "tags": []
   },
   "outputs": [],
   "source": [
    "#define fuel-efficiency for future questions\n",
    "mpg['fuel_efficient'] = (mpg.cty + mpg.hwy) / 2\n",
    "mpg.head(3)"
   ]
  },
  {
   "cell_type": "code",
   "execution_count": null,
   "id": "c82b771a-caaa-46ff-99ae-e87d39b8635f",
   "metadata": {},
   "outputs": [],
   "source": [
    "#Is there a difference in fuel-efficiency in cars from 2008 vs 1999?\n",
    "2 sample t-test (Independent t-test)(stats.ttest_ind) --------- Independent, Normally Distributed**, Equal Variances*** ------------ Two Tailed looking for a difference"
   ]
  },
  {
   "cell_type": "code",
   "execution_count": null,
   "id": "1487c04c-5437-411b-9b2d-90b5ab9a253c",
   "metadata": {},
   "outputs": [],
   "source": [
    "#H_0 = There is no significant difference in fuel-efficiency in cars from 2008 vs 1999\n",
    "#H_A = There is a significant difference in fuel-efficiency in cars from 2008 vs 1999"
   ]
  },
  {
   "cell_type": "code",
   "execution_count": null,
   "id": "0612c1a0-bb28-4216-9b26-227245ae003f",
   "metadata": {
    "tags": []
   },
   "outputs": [],
   "source": [
    "cars08 = mpg[mpg.year == 2008].fuel_efficient\n",
    "cars99 = mpg[mpg.year == 1999].fuel_efficient"
   ]
  },
  {
   "cell_type": "code",
   "execution_count": null,
   "id": "b2fe0089-e6ec-4fe1-a9ee-10e2fc576293",
   "metadata": {
    "tags": []
   },
   "outputs": [],
   "source": [
    "cars08_mean = mpg[mpg.year == 2008].fuel_efficient.mean()\n",
    "cars08_mean"
   ]
  },
  {
   "cell_type": "code",
   "execution_count": null,
   "id": "0f7649a9-014b-4a48-96e9-b9b02f5604ff",
   "metadata": {
    "tags": []
   },
   "outputs": [],
   "source": [
    "cars99_mean = mpg[mpg.year == 1999].fuel_efficient.mean()\n",
    "cars99_mean"
   ]
  },
  {
   "cell_type": "code",
   "execution_count": null,
   "id": "0e48bc6f-5c18-48a5-a697-4a2894b48514",
   "metadata": {
    "tags": []
   },
   "outputs": [],
   "source": [
    "alpha = 0.05"
   ]
  },
  {
   "cell_type": "code",
   "execution_count": null,
   "id": "c96456bd-9cf7-4525-8c55-bdcfcf2db4f6",
   "metadata": {
    "tags": []
   },
   "outputs": [],
   "source": [
    "stat, pval = stats.levene(cars08, cars99) # The pval is higher than the alpha, as shown below, so the variance is considered equal\n",
    "pval"
   ]
  },
  {
   "cell_type": "code",
   "execution_count": null,
   "id": "a8988c1e-c897-4a17-a8b7-533e5c081e6c",
   "metadata": {
    "tags": []
   },
   "outputs": [],
   "source": [
    "#now we compute the test statistic\n",
    "t, p = stats.ttest_ind(cars08, cars99) \n",
    "t, p"
   ]
  },
  {
   "cell_type": "code",
   "execution_count": null,
   "id": "a751ab6c-0533-4258-adf6-842c24b02f7b",
   "metadata": {},
   "outputs": [],
   "source": [
    "#The pval is greater than the alpha, thus we fail to reject the H_0"
   ]
  },
  {
   "cell_type": "code",
   "execution_count": null,
   "id": "da59f288-34e4-433f-babd-5b893299d0af",
   "metadata": {},
   "outputs": [],
   "source": []
  },
  {
   "cell_type": "code",
   "execution_count": null,
   "id": "40825a11-ba15-4e11-82d4-695794a77e18",
   "metadata": {},
   "outputs": [],
   "source": []
  },
  {
   "cell_type": "code",
   "execution_count": null,
   "id": "6466a05e-548f-40a7-b80a-10c4d7f1fd9f",
   "metadata": {},
   "outputs": [],
   "source": [
    "#Are compact cars more fuel-efficient than the average car?\n",
    "1 sample t-test (stats.ttest_1samp) ---------------- Normally Distributed** ----------- Compare observed mean to theoretical one --------- One Tailed"
   ]
  },
  {
   "cell_type": "code",
   "execution_count": null,
   "id": "3aa270cc-39ae-4d2b-a7a8-ba89cd2031a7",
   "metadata": {},
   "outputs": [],
   "source": [
    "#H_0 = Compact cars <= fuel-efficient than the average car\n",
    "#H_A = Compact cars > fuel-efficient than the average car"
   ]
  },
  {
   "cell_type": "code",
   "execution_count": null,
   "id": "fe523a1c-9a5a-48d4-a350-003722e360fd",
   "metadata": {
    "tags": []
   },
   "outputs": [],
   "source": [
    "c_cars = mpg[mpg['class'] == 'compact'].fuel_efficient\n",
    "avg_cars = mpg[mpg['class'] != 'compact'].fuel_efficient"
   ]
  },
  {
   "cell_type": "code",
   "execution_count": null,
   "id": "b4dbb49a-af09-4322-a1cf-a8316038b17d",
   "metadata": {
    "tags": []
   },
   "outputs": [],
   "source": [
    "c_cars_mean = mpg[mpg['class'] == 'compact'].fuel_efficient.mean()\n",
    "c_cars_mean"
   ]
  },
  {
   "cell_type": "code",
   "execution_count": null,
   "id": "86ae179e-0c0a-43c6-93d9-7d33723d19f7",
   "metadata": {
    "tags": []
   },
   "outputs": [],
   "source": [
    "avg_cars_mean = mpg[mpg['class'] != 'compact'].fuel_efficient.mean()\n",
    "avg_cars_mean"
   ]
  },
  {
   "cell_type": "code",
   "execution_count": null,
   "id": "7239a5e8-bc95-499f-a1a8-2cdab7dcba58",
   "metadata": {},
   "outputs": [],
   "source": [
    "alpha = 0.05"
   ]
  },
  {
   "cell_type": "code",
   "execution_count": null,
   "id": "1e3ce9cb-c626-4487-bc7f-a326f14da94e",
   "metadata": {
    "tags": []
   },
   "outputs": [],
   "source": [
    "stat, pval = stats.levene(c_cars, avg_cars) # The pval is lower than the alpha, as shown below, so the variance is NOT considered equal\n",
    "pval"
   ]
  },
  {
   "cell_type": "code",
   "execution_count": null,
   "id": "2d924e86-1d55-49b5-bd80-5f96bd7989cc",
   "metadata": {
    "tags": []
   },
   "outputs": [],
   "source": [
    "#now we compute the test statistic\n",
    "t, p = stats.ttest_1samp(c_cars, avg_cars_mean) \n",
    "t, p"
   ]
  },
  {
   "cell_type": "code",
   "execution_count": null,
   "id": "cb16db53-6ee2-4b54-90d4-8dc6b3f6d3ab",
   "metadata": {},
   "outputs": [],
   "source": []
  },
  {
   "cell_type": "code",
   "execution_count": null,
   "id": "4564263c-77a7-4412-a730-6a3de67300d9",
   "metadata": {},
   "outputs": [],
   "source": []
  },
  {
   "cell_type": "code",
   "execution_count": null,
   "id": "675135ee-5d3d-46ab-9c55-51a2cc276d7d",
   "metadata": {},
   "outputs": [],
   "source": []
  },
  {
   "cell_type": "code",
   "execution_count": null,
   "id": "37135594-9dff-4d23-872c-b971b86fa2ee",
   "metadata": {},
   "outputs": [],
   "source": [
    "#Do manual cars get better gas mileage than automatic cars?\n",
    "2 sample t-test (Independent t-test)(stats.ttest_ind) --------- Independent, Normally Distributed**, Equal Variances*** --------- Compare two observed means --------- One Tailed"
   ]
  },
  {
   "cell_type": "code",
   "execution_count": null,
   "id": "488d6b15-9177-4cc5-ae47-32e4a09ec3ef",
   "metadata": {},
   "outputs": [],
   "source": [
    "#H_0 = Manual cars <= fuel-efficient than automatic cars\n",
    "#H_A = Manual cars > fuel-efficient than automatic cars"
   ]
  },
  {
   "cell_type": "code",
   "execution_count": null,
   "id": "d1e25437-61a6-4d27-b282-f9b7ac20f247",
   "metadata": {
    "tags": []
   },
   "outputs": [],
   "source": [
    "m_cars = mpg[mpg['trans'].str.contains('manual')].fuel_efficient\n",
    "a_cars = mpg[mpg['trans'] != 'manual'].fuel_efficient"
   ]
  },
  {
   "cell_type": "code",
   "execution_count": null,
   "id": "5ba0c19d-e324-428e-82e3-6d43c286e777",
   "metadata": {
    "tags": []
   },
   "outputs": [],
   "source": [
    "m_cars_mean = m_cars.mean()\n",
    "m_cars_mean"
   ]
  },
  {
   "cell_type": "code",
   "execution_count": null,
   "id": "807507ed-91c3-40fb-b42a-ccd253044ee1",
   "metadata": {
    "tags": []
   },
   "outputs": [],
   "source": [
    "a_cars_mean = a_cars.mean()\n",
    "a_cars_mean"
   ]
  },
  {
   "cell_type": "markdown",
   "id": "b831fe34-db1c-4232-8c47-bbbae7dbce94",
   "metadata": {},
   "source": []
  },
  {
   "cell_type": "code",
   "execution_count": null,
   "id": "4e40cb94-05db-415d-849a-4dfc130a606d",
   "metadata": {},
   "outputs": [],
   "source": [
    "alpha = 0.05"
   ]
  },
  {
   "cell_type": "code",
   "execution_count": null,
   "id": "2913296d-1239-4563-b75c-49032f1d23b9",
   "metadata": {
    "tags": []
   },
   "outputs": [],
   "source": [
    "stat, pval = stats.levene(m_cars, a_cars) # The pval is larger than the alpha, as shown below, so the variance is considered equal\n",
    "pval"
   ]
  },
  {
   "cell_type": "code",
   "execution_count": null,
   "id": "d0f3f724-33e0-4bce-8d9a-87197fe464a0",
   "metadata": {
    "tags": []
   },
   "outputs": [],
   "source": [
    "t, p = stats.ttest_ind(m_cars, a_cars)\n",
    "t, p"
   ]
  },
  {
   "cell_type": "code",
   "execution_count": null,
   "id": "3a87c740-da1b-4984-9e4b-72f411541c2c",
   "metadata": {},
   "outputs": [],
   "source": []
  },
  {
   "cell_type": "code",
   "execution_count": null,
   "id": "45529491-db70-4077-8af6-27190053aa95",
   "metadata": {
    "tags": []
   },
   "outputs": [],
   "source": []
  },
  {
   "cell_type": "code",
   "execution_count": null,
   "id": "5c242600-31f6-4316-ad2e-b8b29cca683f",
   "metadata": {
    "tags": []
   },
   "outputs": [],
   "source": []
  },
  {
   "cell_type": "code",
   "execution_count": null,
   "id": "88532ddf-854b-446b-887e-f2c9635e19ff",
   "metadata": {
    "tags": []
   },
   "outputs": [],
   "source": []
  },
  {
   "cell_type": "code",
   "execution_count": null,
   "id": "a197b466-6ea0-4417-a7a9-4e25d8822de1",
   "metadata": {
    "tags": []
   },
   "outputs": [],
   "source": []
  },
  {
   "cell_type": "code",
   "execution_count": null,
   "id": "2ca735ef-0b5b-4042-a7b6-80e70f08b3d0",
   "metadata": {},
   "outputs": [],
   "source": []
  }
 ],
 "metadata": {
  "kernelspec": {
   "display_name": "Python 3 (ipykernel)",
   "language": "python",
   "name": "python3"
  },
  "language_info": {
   "codemirror_mode": {
    "name": "ipython",
    "version": 3
   },
   "file_extension": ".py",
   "mimetype": "text/x-python",
   "name": "python",
   "nbconvert_exporter": "python",
   "pygments_lexer": "ipython3",
   "version": "3.11.4"
  }
 },
 "nbformat": 4,
 "nbformat_minor": 5
}
