{
 "cells": [
  {
   "cell_type": "code",
   "execution_count": 2,
   "id": "ede4cbd4-030b-4533-8309-58f47a422927",
   "metadata": {
    "tags": []
   },
   "outputs": [],
   "source": [
    "import pandas as pd\n",
    "import matplotlib.pyplot as plt\n",
    "import numpy as np\n",
    "from scipy import stats"
   ]
  },
  {
   "cell_type": "code",
   "execution_count": 19,
   "id": "5eb4be9b-24ad-42c7-a479-b9e11585791f",
   "metadata": {
    "tags": []
   },
   "outputs": [
    {
     "data": {
      "text/plain": [
       "<scipy.stats._distn_infrastructure.rv_discrete_frozen at 0x12b5cfb10>"
      ]
     },
     "execution_count": 19,
     "metadata": {},
     "output_type": "execute_result"
    }
   ],
   "source": [
    "#A bank found that the average number of cars waiting during the noon hour at a drive-up window follows a Poisson distribution with a mean of 2 cars. \n",
    "#Make a chart of this distribution and answer these questions concerning the probability of cars waiting at the drive-up window.\n",
    "\n",
    "lamb = 2\n",
    "drive_up = stats.poisson(lamb)\n",
    "drive_up\n"
   ]
  },
  {
   "cell_type": "code",
   "execution_count": 24,
   "id": "20462195-3dc8-4427-b9be-b7034e574860",
   "metadata": {
    "tags": []
   },
   "outputs": [
    {
     "data": {
      "image/png": "[encoded data removed]",
      "text/plain": [
       "<Figure size 640x480 with 1 Axes>"
      ]
     },
     "metadata": {},
     "output_type": "display_data"
    }
   ],
   "source": [
    "x = np.arange(0, 12)\n",
    "y = [drive_up.pmf(i) for i in x]\n",
    "\n",
    "plt.bar(x,y)\n",
    "\n",
    "plt.xlabel('Cars Waiting')\n",
    "plt.ylabel('Probability of Cars Waiting')\n",
    "plt.title('Average Number of Cars Waiting during the Noon Hour at Drive-Up Window')\n",
    "\n",
    "plt.show()"
   ]
  },
  {
   "cell_type": "code",
   "execution_count": 2,
   "id": "4997dc4b-3581-4fdf-a500-9859b61c42eb",
   "metadata": {
    "tags": []
   },
   "outputs": [
    {
     "data": {
      "text/plain": [
       "0.1353352832366127"
      ]
     },
     "execution_count": 2,
     "metadata": {},
     "output_type": "execute_result"
    }
   ],
   "source": [
    "#What is the probability that no cars drive up in the noon hour?\n",
    "stats.poisson(2).pmf(0)"
   ]
  },
  {
   "cell_type": "code",
   "execution_count": 6,
   "id": "bebb99ba-6c77-4b0d-8c94-8b5f5e95a198",
   "metadata": {
    "tags": []
   },
   "outputs": [
    {
     "data": {
      "text/plain": [
       "0.32332358381693654"
      ]
     },
     "execution_count": 6,
     "metadata": {},
     "output_type": "execute_result"
    }
   ],
   "source": [
    "#What is the probability that 3 or more cars come through the drive through?\n",
    "stats.poisson(2).sf(2)"
   ]
  },
  {
   "cell_type": "code",
   "execution_count": 7,
   "id": "f6cd512f-02c4-4184-a890-33cab120ad5a",
   "metadata": {
    "tags": []
   },
   "outputs": [
    {
     "data": {
      "text/plain": [
       "0.8646647167633873"
      ]
     },
     "execution_count": 7,
     "metadata": {},
     "output_type": "execute_result"
    }
   ],
   "source": [
    "#How likely is it that the drive through gets at least 1 car?\n",
    "stats.poisson(2).sf(0)"
   ]
  },
  {
   "cell_type": "code",
   "execution_count": null,
   "id": "c886fbd0-49af-4c32-9a46-527d6bfb0750",
   "metadata": {},
   "outputs": [],
   "source": []
  },
  {
   "cell_type": "code",
   "execution_count": null,
   "id": "d9e3782a-09bb-4165-9a5d-2c5bbbf7b019",
   "metadata": {},
   "outputs": [],
   "source": []
  },
  {
   "cell_type": "code",
   "execution_count": 8,
   "id": "b62a8535-c88c-405f-ab8d-74d0d662fc3c",
   "metadata": {
    "tags": []
   },
   "outputs": [],
   "source": [
    "#Grades of State University graduates are normally distributed with a mean of 3.0 and a standard deviation of .3. Calculate the following:\n",
    "\n",
    "mean = 3.0\n",
    "sd = .3\n"
   ]
  },
  {
   "cell_type": "code",
   "execution_count": 11,
   "id": "0ee22612-24da-4660-8de2-5f415c70675a",
   "metadata": {
    "tags": []
   },
   "outputs": [
    {
     "data": {
      "text/plain": [
       "<scipy.stats._distn_infrastructure.rv_continuous_frozen at 0x12b108690>"
      ]
     },
     "execution_count": 11,
     "metadata": {},
     "output_type": "execute_result"
    }
   ],
   "source": [
    "\n",
    "gpa = stats.norm(mean, sd)\n",
    "gpa"
   ]
  },
  {
   "cell_type": "code",
   "execution_count": 34,
   "id": "94ff7226-6f53-47bb-aff1-a32ec2c54ee7",
   "metadata": {
    "tags": []
   },
   "outputs": [
    {
     "data": {
      "text/plain": [
       "3.4934560880854417"
      ]
     },
     "execution_count": 34,
     "metadata": {},
     "output_type": "execute_result"
    }
   ],
   "source": [
    "#What grade point average is required to be in the top 5% of the graduating class?\n",
    "\n",
    "gpa.isf(.05)"
   ]
  },
  {
   "cell_type": "code",
   "execution_count": 12,
   "id": "856f48c2-6ef2-4470-8720-54d7fac97ace",
   "metadata": {
    "tags": []
   },
   "outputs": [
    {
     "data": {
      "text/plain": [
       "2.689069983151863"
      ]
     },
     "execution_count": 12,
     "metadata": {},
     "output_type": "execute_result"
    }
   ],
   "source": [
    "#What GPA constitutes the bottom 15% of the class?\n",
    "\n",
    "gpa.ppf(.15)"
   ]
  },
  {
   "cell_type": "code",
   "execution_count": 13,
   "id": "4082a888-238f-4824-b69a-c85e0faff8e8",
   "metadata": {
    "tags": []
   },
   "outputs": [
    {
     "data": {
      "text/plain": [
       "2.842679846187588"
      ]
     },
     "execution_count": 13,
     "metadata": {},
     "output_type": "execute_result"
    }
   ],
   "source": [
    "#An eccentric alumnus left scholarship money for students in the third decile from the bottom of their class. \n",
    "#Determine the range of the third decile. Would a student with a 2.8 grade point average qualify for this scholarship?\n",
    "\n",
    "gpa.ppf(.30)\n",
    "#Yes they would qualify"
   ]
  },
  {
   "cell_type": "code",
   "execution_count": null,
   "id": "0f50a8d2-4fb7-49d7-9133-93c3689e2e22",
   "metadata": {},
   "outputs": [],
   "source": [
    "#If I have a GPA of 3.5, what percentile am I in?\n"
   ]
  },
  {
   "cell_type": "code",
   "execution_count": 14,
   "id": "55688500-f703-40c8-942c-970479d32527",
   "metadata": {
    "tags": []
   },
   "outputs": [
    {
     "data": {
      "text/plain": [
       "0.0477903522728147"
      ]
     },
     "execution_count": 14,
     "metadata": {},
     "output_type": "execute_result"
    }
   ],
   "source": [
    "gpa.sf(3.5)"
   ]
  },
  {
   "cell_type": "code",
   "execution_count": null,
   "id": "44ffa974-6d8e-4fc6-a5b3-af123326a0d9",
   "metadata": {},
   "outputs": [],
   "source": []
  },
  {
   "cell_type": "code",
   "execution_count": 61,
   "id": "e8fa4199-58c3-4d34-9e3d-764b77992796",
   "metadata": {
    "tags": []
   },
   "outputs": [
    {
     "data": {
      "text/plain": [
       "0.13975823631416448"
      ]
     },
     "execution_count": 61,
     "metadata": {},
     "output_type": "execute_result"
    }
   ],
   "source": [
    "#A marketing website has an average click-through rate of 2%. One day they observe 4326 visitors and 97 click-throughs. \n",
    "#How likely is it that this many people or more click through?\n",
    "\n",
    "n_trials = 4326\n",
    "p= .02\n",
    "click_throughs = stats.binom(n_trials, p)\n",
    "\n",
    "\n",
    "#This is asking for a probability of 4326 visitors and 97 click-throughs or more. Sounds exclusive, like it wants the survival function\n",
    "\n",
    "click_throughs.sf(96)\n",
    "\n"
   ]
  },
  {
   "cell_type": "code",
   "execution_count": 62,
   "id": "ef8683ab-4c99-4e63-8d5d-f658aed1b45f",
   "metadata": {
    "tags": []
   },
   "outputs": [
    {
     "data": {
      "text/plain": [
       "array([[0, 0, 0, ..., 0, 0, 0],\n",
       "       [0, 0, 0, ..., 0, 0, 0],\n",
       "       [0, 0, 0, ..., 0, 0, 0],\n",
       "       ...,\n",
       "       [0, 0, 0, ..., 0, 0, 0],\n",
       "       [0, 1, 0, ..., 0, 0, 0],\n",
       "       [0, 0, 0, ..., 0, 0, 0]])"
      ]
     },
     "execution_count": 62,
     "metadata": {},
     "output_type": "execute_result"
    }
   ],
   "source": [
    "clicks= np.random.choice([0,1], (10_000, 4326), p = [.98,.02])\n",
    "clicks"
   ]
  },
  {
   "cell_type": "code",
   "execution_count": 63,
   "id": "7ae15a2e-b6f5-4da6-9714-7a9db5f73bd2",
   "metadata": {
    "tags": []
   },
   "outputs": [
    {
     "data": {
      "text/plain": [
       "0.1516"
      ]
     },
     "execution_count": 63,
     "metadata": {},
     "output_type": "execute_result"
    }
   ],
   "source": [
    "(clicks.sum(axis=1) >96).mean()"
   ]
  },
  {
   "cell_type": "code",
   "execution_count": 64,
   "id": "1c6242b9-b599-4118-a4bf-0bb92aadd088",
   "metadata": {
    "tags": []
   },
   "outputs": [],
   "source": [
    "#You are working on some statistics homework consisting of 100 questions where all of the answers are a probability rounded to the hundreths place. \n",
    "#Looking to save time, you put down random probabilities as the answer to each question.\n",
    "\n",
    "#What we know\n",
    "\n",
    "n = 60 #First 60 questions/trials\n",
    "p = 0.01 #1/100 b'c it's some random number between 0 & 1\n",
    "\n",
    "stats_hmwk = stats.binom(n, p)"
   ]
  },
  {
   "cell_type": "code",
   "execution_count": 66,
   "id": "afd4c4b5-d8aa-47d3-a4be-8af2d8b18404",
   "metadata": {
    "tags": []
   },
   "outputs": [
    {
     "data": {
      "text/plain": [
       "0.45284335760923855"
      ]
     },
     "execution_count": 66,
     "metadata": {},
     "output_type": "execute_result"
    }
   ],
   "source": [
    "#What is the probability that at least one of your first 60 answers is correct?\n",
    "\n",
    "stats_hmwk.sf(0)"
   ]
  },
  {
   "cell_type": "code",
   "execution_count": null,
   "id": "4353ac44-fb4f-45b2-ba56-5d6e695efc6d",
   "metadata": {
    "tags": []
   },
   "outputs": [],
   "source": []
  },
  {
   "cell_type": "code",
   "execution_count": 67,
   "id": "5dc2e0ee-c127-4653-a041-29499c17c9a5",
   "metadata": {
    "tags": []
   },
   "outputs": [],
   "source": [
    "#The codeup staff tends to get upset when the student break area is not cleaned up. \n",
    "#Suppose that there's a 3% chance that any one student cleans the break area when they visit it, and, on any given day, about 90% of the 3 active \n",
    "#cohorts of 22 students visit the break area. How likely is it that the break area gets cleaned up each day? How likely is it that it goes two days without \n",
    "#getting cleaned up? All week?\n",
    "\n",
    "#What we know:\n",
    "# 90% (0.9) of the 3, 22 student classes visit the break rm\n",
    "#3% (0.03) chance they'll clean it\n",
    "\n",
    "#number of students that visit break area\n",
    "n_students = round(.9 * 22 * 3)\n",
    "\n",
    "#probability of success\n",
    "p= .03"
   ]
  },
  {
   "cell_type": "code",
   "execution_count": 69,
   "id": "6fbf8be2-f32c-4b92-a7b5-a0a08753b9aa",
   "metadata": {
    "tags": []
   },
   "outputs": [
    {
     "data": {
      "text/plain": [
       "0.8342199288437352"
      ]
     },
     "execution_count": 69,
     "metadata": {},
     "output_type": "execute_result"
    }
   ],
   "source": [
    "#\"sf(0)\" because we want it cleaned more then 0 times\n",
    "clean = stats.binom(n_students, p)\n",
    "clean.sf(0)\n"
   ]
  },
  {
   "cell_type": "code",
   "execution_count": 71,
   "id": "63ed4cd8-8fb2-494a-8e68-33f8551f12b6",
   "metadata": {
    "tags": []
   },
   "outputs": [
    {
     "data": {
      "text/plain": [
       "0.027483031992576134"
      ]
     },
     "execution_count": 71,
     "metadata": {},
     "output_type": "execute_result"
    }
   ],
   "source": [
    "#How likely is it that it goes two days without \n",
    "#getting cleaned up?\n",
    "\n",
    "# This means the number of possible students avail to clean has doubled!\n",
    "n = n_students * 2 \n",
    "p = 0.03\n",
    "notclean_2 = stats.binom(n, p)\n",
    "\n",
    "notclean_2.pmf(0)\n"
   ]
  },
  {
   "cell_type": "code",
   "execution_count": 73,
   "id": "006b8643-9205-48d7-b24a-fbbf7fc6a782",
   "metadata": {
    "tags": []
   },
   "outputs": [
    {
     "name": "stdout",
     "output_type": "stream",
     "text": [
      "It is 2.7% likely that the breakroom goes two days without cleaning.\n"
     ]
    }
   ],
   "source": [
    "print(f\"It is {round(notclean_2.pmf(0),3)*100}% likely that the breakroom goes two days without cleaning.\")"
   ]
  },
  {
   "cell_type": "code",
   "execution_count": 75,
   "id": "daee2e89-9660-4b9d-8e4f-c3e54990541e",
   "metadata": {
    "tags": []
   },
   "outputs": [],
   "source": [
    "#All week?\n",
    "\n",
    "n = n_students * 5 \n",
    "p = 0.03\n",
    "notclean_5 = stats.binom(n, p)"
   ]
  },
  {
   "cell_type": "code",
   "execution_count": 76,
   "id": "2caa73ef-186b-4a98-ab20-da61dfd8c8e1",
   "metadata": {
    "tags": []
   },
   "outputs": [
    {
     "data": {
      "text/plain": [
       "0.00012521651388091245"
      ]
     },
     "execution_count": 76,
     "metadata": {},
     "output_type": "execute_result"
    }
   ],
   "source": [
    "notclean_5.pmf(0)"
   ]
  },
  {
   "cell_type": "code",
   "execution_count": 77,
   "id": "b291c3a1-1d38-4ec7-820e-3b8c5b8794ef",
   "metadata": {
    "tags": []
   },
   "outputs": [
    {
     "name": "stdout",
     "output_type": "stream",
     "text": [
      "It is 0.013% likely that the breakroom goes five days without cleaning.\n"
     ]
    }
   ],
   "source": [
    "print(f\"It is {round(notclean_5.pmf(0),5)*100}% likely that the breakroom goes five days without cleaning.\")"
   ]
  },
  {
   "cell_type": "code",
   "execution_count": null,
   "id": "5ae060e2-8506-4e88-8b10-1e62d9c9383d",
   "metadata": {},
   "outputs": [],
   "source": []
  },
  {
   "cell_type": "code",
   "execution_count": null,
   "id": "f8dafd47-b993-4d60-b914-8aec2fa2eb15",
   "metadata": {},
   "outputs": [],
   "source": []
  },
  {
   "cell_type": "code",
   "execution_count": null,
   "id": "71e99ad4-7a3d-4fe8-8415-c7143380d328",
   "metadata": {},
   "outputs": [],
   "source": []
  },
  {
   "cell_type": "code",
   "execution_count": 4,
   "id": "ada2b2ac-d867-43bb-9761-a21dc8eed0dc",
   "metadata": {
    "tags": []
   },
   "outputs": [
    {
     "data": {
      "text/plain": [
       "33"
      ]
     },
     "execution_count": 4,
     "metadata": {},
     "output_type": "execute_result"
    }
   ],
   "source": [
    "#You want to get lunch at La Panaderia, but notice that the line is usually very long at lunchtime. After several weeks of careful observation, \n",
    "#you notice that the average number of people in line when your lunch break starts is normally distributed with a mean of 15 and standard deviation of 3. \n",
    "#If it takes 2 minutes for each person to order, and 10 minutes from ordering to getting your food, what is the likelihood that you have at least 15 minutes \n",
    "#left to eat your food before you have to go back to class? Assume you have one hour for lunch, and ignore travel time to and from La Panaderia.\n",
    "\n",
    "μ = 15 * 2 \n",
    "σ = 3 * 2\n",
    "\n",
    "total_lunch_time = 60 #mins\n",
    "eat_time = 15 #mins\n",
    "order_time = 2 #mins\n",
    "cook_time = 10 #mins\n",
    "\n",
    "max_wait = (total_lunch_time - eat_time) - order_time  - cook_time\n",
    "max_wait"
   ]
  },
  {
   "cell_type": "code",
   "execution_count": 79,
   "id": "4d05664c-a19f-4c0c-a4d4-c58f58728b9b",
   "metadata": {
    "tags": []
   },
   "outputs": [
    {
     "data": {
      "text/plain": [
       "0.6914624612740131"
      ]
     },
     "execution_count": 79,
     "metadata": {},
     "output_type": "execute_result"
    }
   ],
   "source": [
    "stats.norm(μ, σ).cdf(max_wait)"
   ]
  },
  {
   "cell_type": "code",
   "execution_count": 80,
   "id": "a22fa83d-594c-41d0-b293-6364b4afe216",
   "metadata": {
    "tags": []
   },
   "outputs": [
    {
     "name": "stdout",
     "output_type": "stream",
     "text": [
      "There is a 69.1% chance you would have at least 15 minutes remaining to eat.\n"
     ]
    }
   ],
   "source": [
    "print(f\"There is a {round(stats.norm(μ, σ).cdf(max_wait), 3)*100}% chance you would have at least 15 minutes remaining to eat.\")"
   ]
  },
  {
   "cell_type": "code",
   "execution_count": null,
   "id": "f0dee5b1-4f46-4a2a-b5da-063f999a5e1a",
   "metadata": {},
   "outputs": [],
   "source": []
  },
  {
   "cell_type": "code",
   "execution_count": 13,
   "id": "e2edc790-6fbe-4907-b518-0738f5f19dcb",
   "metadata": {
    "tags": []
   },
   "outputs": [],
   "source": [
    "from pydataset import data\n",
    "import env"
   ]
  },
  {
   "cell_type": "code",
   "execution_count": 15,
   "id": "c09de1c1-c5d6-4e36-ba64-ca45ac192ada",
   "metadata": {
    "tags": []
   },
   "outputs": [],
   "source": [
    "url = env.get_db_url('employees')\n",
    "salaries = pd.read_sql('SELECT * FROM salaries where to_date >now()', url)"
   ]
  },
  {
   "cell_type": "code",
   "execution_count": 16,
   "id": "42b345a6-dd62-43d0-88a2-2cb2567919e8",
   "metadata": {
    "tags": []
   },
   "outputs": [],
   "source": [
    "μ = salaries.salary.mean()\n",
    "σ = salaries.salary.std()"
   ]
  },
  {
   "cell_type": "code",
   "execution_count": 17,
   "id": "f75896d4-7010-4378-a12e-7478b6693cb5",
   "metadata": {},
   "outputs": [
    {
     "data": {
      "text/plain": [
       "0.24385742480214434"
      ]
     },
     "execution_count": 17,
     "metadata": {},
     "output_type": "execute_result"
    }
   ],
   "source": [
    "#What percent of employees earn less than 60,000?\n",
    "\n",
    "stats.norm(μ, σ).cdf(60000)"
   ]
  },
  {
   "cell_type": "code",
   "execution_count": 18,
   "id": "5130d598-cc6d-4980-b332-139ed8f75759",
   "metadata": {},
   "outputs": [
    {
     "data": {
      "text/plain": [
       "0.09208819199804058"
      ]
     },
     "execution_count": 18,
     "metadata": {},
     "output_type": "execute_result"
    }
   ],
   "source": [
    "#What percent of employees earn more than 95,000?\n",
    "\n",
    "stats.norm(μ, σ).sf(95000)"
   ]
  },
  {
   "cell_type": "code",
   "execution_count": 19,
   "id": "acf8a6d3-1a16-4c10-ac73-4637787f9b43",
   "metadata": {},
   "outputs": [
    {
     "data": {
      "text/plain": [
       "0.33506056854466654"
      ]
     },
     "execution_count": 19,
     "metadata": {},
     "output_type": "execute_result"
    }
   ],
   "source": [
    "#What percent of employees earn between 65,000 and 80,000?\n",
    "\n",
    "(stats.norm(μ, σ).cdf(80000)) - (stats.norm(μ, σ).cdf(65000))"
   ]
  },
  {
   "cell_type": "code",
   "execution_count": 22,
   "id": "a73eb8b8-00df-4a62-8525-5e7dbdc1360d",
   "metadata": {},
   "outputs": [
    {
     "data": {
      "text/plain": [
       "100484.64454102775"
      ]
     },
     "execution_count": 22,
     "metadata": {},
     "output_type": "execute_result"
    }
   ],
   "source": [
    "#What do the top 5% of employees make?\n",
    "\n",
    "stats.norm(μ, σ).ppf(.95)"
   ]
  },
  {
   "cell_type": "code",
   "execution_count": null,
   "id": "4fea7126-598e-41ee-acfe-15972f137c5f",
   "metadata": {},
   "outputs": [],
   "source": []
  },
  {
   "cell_type": "code",
   "execution_count": null,
   "id": "40691895-601c-48a6-ab35-2351e0c5e5a7",
   "metadata": {},
   "outputs": [],
   "source": []
  },
  {
   "cell_type": "code",
   "execution_count": null,
   "id": "8de17188-a551-48c8-984d-4e584b36d25a",
   "metadata": {},
   "outputs": [],
   "source": []
  },
  {
   "cell_type": "code",
   "execution_count": null,
   "id": "cfb0cfac-84b5-4fcb-890c-84712614d54b",
   "metadata": {},
   "outputs": [],
   "source": []
  },
  {
   "cell_type": "code",
   "execution_count": null,
   "id": "90b89efd-7eaf-4023-9a92-36d9775dfaea",
   "metadata": {},
   "outputs": [],
   "source": []
  }
 ],
 "metadata": {
  "kernelspec": {
   "display_name": "Python 3 (ipykernel)",
   "language": "python",
   "name": "python3"
  },
  "language_info": {
   "codemirror_mode": {
    "name": "ipython",
    "version": 3
   },
   "file_extension": ".py",
   "mimetype": "text/x-python",
   "name": "python",
   "nbconvert_exporter": "python",
   "pygments_lexer": "ipython3",
   "version": "3.11.4"
  }
 },
 "nbformat": 4,
 "nbformat_minor": 5
}
